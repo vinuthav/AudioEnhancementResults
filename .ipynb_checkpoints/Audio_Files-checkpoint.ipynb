{
 "cells": [
  {
   "cell_type": "code",
   "execution_count": null,
   "metadata": {
    "id": "QH2yjUY7IjGh"
   },
   "outputs": [],
   "source": [
    "from IPython.display import Audio, display, HTML\n",
    "import os"
   ]
  },
  {
   "cell_type": "code",
   "execution_count": null,
   "metadata": {
    "id": "CLVM3u9FIjxL"
   },
   "outputs": [],
   "source": [
    "def displayaudios(inputaudio, predicted, output_wav,filename):\n",
    "        print(\"\\t\",filename)\n",
    "        display(HTML('''<table><tr>\n",
    "                        <th style=\"text-align:center\">Input</th>\n",
    "                        <th style=\"text-align:center\">Predicted</th>\n",
    "                        <th style=\"text-align:center\">Output Wav</th>\n",
    "                        </tr><tr>\n",
    "                         <td style=\"text-align:center\">{}</td>\n",
    "                         <td style=\"text-align:center\">{}</td>\n",
    "                         <td style=\"text-align:center\">{}</td>\n",
    "                         </tr></table>'''.format(inputaudio._repr_html_(), predicted._repr_html_(), output_wav._repr_html_())))"
   ]
  },
  {
   "cell_type": "code",
   "execution_count": null,
   "metadata": {
    "id": "EDuk9PaAL-BW"
   },
   "outputs": [],
   "source": [
    "def audios(path):\n",
    "\n",
    "    files = [i for i in os.listdir(path) if '.wav' in i]\n",
    "\n",
    "    inputfiles = [i for i in files if 'input' in i]\n",
    "    outputfiles = [i for i in files if 'output' in i]\n",
    "    predfiles = [i for i in files if 'pred' in i]\n",
    "\n",
    "    predfiles.sort()\n",
    "    inputfiles.sort()\n",
    "    outputfiles.sort()\n",
    "    for i in range(len(inputfiles)):\n",
    "      inp = Audio(path+inputfiles[i], rate=16000)\n",
    "      pred = Audio(path+predfiles[i], rate=16000)\n",
    "      outp = Audio(path+outputfiles[i], rate=16000)\n",
    "      print(\"\\n\")\n",
    "      displayaudios(inp,pred,outp, inputfiles[i])"
   ]
  },
  {
   "cell_type": "code",
   "execution_count": null,
   "metadata": {
    "colab": {
     "base_uri": "https://localhost:8080/",
     "height": 293
    },
    "id": "RIvCKq7kMUG7",
    "outputId": "56072698-bdd1-4b07-84d5-4cd8cb491c91"
   },
   "outputs": [],
   "source": [
    "path1 = 'dataset/model1/variation1/'\n",
    "print(\"Model 1 - ResUNet : with Dataset 1(Only Noisy Data)\")\n",
    "audios(path1)"
   ]
  },
  {
   "cell_type": "code",
   "execution_count": null,
   "metadata": {},
   "outputs": [],
   "source": []
  },
  {
   "cell_type": "code",
   "execution_count": null,
   "metadata": {},
   "outputs": [],
   "source": [
    "path2 = 'dataset/model1/variation2/'\n",
    "print(\"Model 1 - ResUNet : with Dataset 2(Clean and Noisy Data)\")\n",
    "audios(path2)"
   ]
  },
  {
   "cell_type": "code",
   "execution_count": null,
   "metadata": {},
   "outputs": [],
   "source": []
  },
  {
   "cell_type": "code",
   "execution_count": null,
   "metadata": {},
   "outputs": [],
   "source": [
    "path3 = 'dataset/model1/variation3/'\n",
    "print(\"Model 1 - ResUNet : with Dataset 3(Only Clean Data)\")\n",
    "audios(path3)"
   ]
  },
  {
   "cell_type": "code",
   "execution_count": null,
   "metadata": {},
   "outputs": [],
   "source": []
  },
  {
   "cell_type": "code",
   "execution_count": null,
   "metadata": {},
   "outputs": [],
   "source": [
    "path4 = 'dataset/model2/variation1/'\n",
    "print(\"Model 2 - ResUNet with Discriminator : with Dataset 1(Only Noisy Data)\")\n",
    "audios(path4)"
   ]
  },
  {
   "cell_type": "code",
   "execution_count": null,
   "metadata": {},
   "outputs": [],
   "source": []
  },
  {
   "cell_type": "code",
   "execution_count": null,
   "metadata": {},
   "outputs": [],
   "source": [
    "path5 = 'dataset/model2/variation2/'\n",
    "print(\"Model 2 - ResUNet : with Dataset 2(Clean and Noisy Data)\")\n",
    "audios(path5)"
   ]
  },
  {
   "cell_type": "code",
   "execution_count": null,
   "metadata": {},
   "outputs": [],
   "source": []
  },
  {
   "cell_type": "code",
   "execution_count": null,
   "metadata": {},
   "outputs": [],
   "source": [
    "path6 = 'dataset/model2/variation3/'\n",
    "print(\"Model 2 - ResUNet : with Dataset 3(Only Clean Data)\")\n",
    "audios(path6)"
   ]
  },
  {
   "cell_type": "code",
   "execution_count": null,
   "metadata": {},
   "outputs": [],
   "source": []
  },
  {
   "cell_type": "code",
   "execution_count": null,
   "metadata": {},
   "outputs": [],
   "source": [
    "path7 = 'dataset/model3/variation1/'\n",
    "print(\"Model 3 - ResUNet with attention layers : with Dataset 1(Only Noisy Data)\")\n",
    "audios(path7)"
   ]
  },
  {
   "cell_type": "code",
   "execution_count": null,
   "metadata": {},
   "outputs": [],
   "source": []
  },
  {
   "cell_type": "code",
   "execution_count": null,
   "metadata": {},
   "outputs": [],
   "source": [
    "path8 = 'dataset/model3/variation2/'\n",
    "print(\"Model 3 - ResUNet : with Dataset 2(Clean and Noisy Data)\")\n",
    "audios(path8)"
   ]
  },
  {
   "cell_type": "code",
   "execution_count": null,
   "metadata": {},
   "outputs": [],
   "source": []
  },
  {
   "cell_type": "code",
   "execution_count": null,
   "metadata": {},
   "outputs": [],
   "source": [
    "path9 = 'dataset/model3/variation3/'\n",
    "print(\"Model 3 - ResUNet : with Dataset 3(Only Clean Data)\")\n",
    "audios(path9)"
   ]
  }
 ],
 "metadata": {
  "colab": {
   "provenance": []
  },
  "kernelspec": {
   "display_name": "Python 3 (ipykernel)",
   "language": "python",
   "name": "python3"
  },
  "language_info": {
   "codemirror_mode": {
    "name": "ipython",
    "version": 3
   },
   "file_extension": ".py",
   "mimetype": "text/x-python",
   "name": "python",
   "nbconvert_exporter": "python",
   "pygments_lexer": "ipython3",
   "version": "3.9.13"
  }
 },
 "nbformat": 4,
 "nbformat_minor": 1
}
